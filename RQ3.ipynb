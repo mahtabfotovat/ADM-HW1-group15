{
 "cells": [
  {
   "cell_type": "code",
   "execution_count": 62,
   "metadata": {},
   "outputs": [],
   "source": [
    "import pandas as pd\n",
    "yellow_2018_06=pd.read_csv('yellow_tripdata_2018-06.csv',encoding='latin1')"
   ]
  },
  {
   "cell_type": "code",
   "execution_count": 63,
   "metadata": {},
   "outputs": [],
   "source": [
    "taxi_zones=pd.read_csv('taxi _zone_lookup.csv',encoding='latin1')"
   ]
  },
  {
   "cell_type": "code",
   "execution_count": 64,
   "metadata": {},
   "outputs": [],
   "source": [
    "# Merge the data set with the reference data for taxi zones\n",
    "yellow_2018_06_with_tz = yellow_2018_06.merge(taxi_zones,left_on='PULocationID', right_on='LocationID')"
   ]
  },
  {
   "cell_type": "code",
   "execution_count": 65,
   "metadata": {},
   "outputs": [],
   "source": [
    "#RQ3\n",
    "from datetime import datetime"
   ]
  },
  {
   "cell_type": "code",
   "execution_count": 66,
   "metadata": {},
   "outputs": [],
   "source": [
    "# columns tpep_pickup_datetime and tpep_dropoff_datetime are in string format\n",
    "# to caclulate duration of the ride we need to convert them to date format which can be done using strptime function from datetime\n",
    "yellow_2018_06_with_tz['tpep_dropoff_datetime'] = yellow_2018_06_with_tz['tpep_dropoff_datetime'].map(lambda tpep_dropoff_datetime: datetime.strptime(tpep_dropoff_datetime, \"%Y-%m-%d %H:%M:%S\"))"
   ]
  },
  {
   "cell_type": "code",
   "execution_count": 67,
   "metadata": {},
   "outputs": [],
   "source": [
    "yellow_2018_06_with_tz['tpep_pickup_datetime'] = yellow_2018_06_with_tz['tpep_pickup_datetime'].map(lambda tpep_pickup_datetime: datetime.strptime(tpep_pickup_datetime, \"%Y-%m-%d %H:%M:%S\"))"
   ]
  },
  {
   "cell_type": "code",
   "execution_count": 68,
   "metadata": {},
   "outputs": [],
   "source": [
    "# timedelta is needed to express difference between 2 timestamps in minutes\n",
    "from datetime import timedelta\n",
    "# math library is needed for ceil function\n",
    "import math\n",
    "# adding new column trip_duration into the data set\n",
    "yellow_2018_06_with_tz['trip_duration']=(yellow_2018_06_with_tz['tpep_dropoff_datetime']-yellow_2018_06_with_tz['tpep_pickup_datetime'])/timedelta(minutes=1)\n",
    "# to plot trip duration in more readable form values will be rounded upwards (ceiled)\n",
    "yellow_2018_06_with_tz['trip_duration']=yellow_2018_06_with_tz['trip_duration'].map(lambda trip_duration: math.ceil(trip_duration))\n"
   ]
  },
  {
   "cell_type": "code",
   "execution_count": 69,
   "metadata": {},
   "outputs": [
    {
     "data": {
      "image/png": "[encoded data removed]",
      "text/plain": [
       "<Figure size 432x288 with 1 Axes>"
      ]
     },
     "metadata": {},
     "output_type": "display_data"
    }
   ],
   "source": [
    "import matplotlib.pyplot as plt\n",
    "import numpy as np\n",
    "plt.xlim([0,60])\n",
    "yellow_2018_06_with_tz['trip_duration'].plot(kind='hist',bins=1500)\n",
    "c=0\n",
    "x=[]\n",
    "while c<=60:\n",
    "    x.append(c)\n",
    "    c+=5\n",
    "plt.xticks(x) \n",
    "plt.xlabel(\"Trip duration\")\n",
    "plt.ylabel(\"# Trips\")\n",
    "plt.show()"
   ]
  },
  {
   "cell_type": "code",
   "execution_count": 74,
   "metadata": {},
   "outputs": [
    {
     "data": {
      "text/plain": [
       "Borough\n",
       "Bronx            [AxesSubplot(0.125,0.125;0.775x0.755)]\n",
       "Brooklyn         [AxesSubplot(0.125,0.125;0.775x0.755)]\n",
       "EWR              [AxesSubplot(0.125,0.125;0.775x0.755)]\n",
       "Manhattan        [AxesSubplot(0.125,0.125;0.775x0.755)]\n",
       "Queens           [AxesSubplot(0.125,0.125;0.775x0.755)]\n",
       "Staten Island    [AxesSubplot(0.125,0.125;0.775x0.755)]\n",
       "Unknown          [AxesSubplot(0.125,0.125;0.775x0.755)]\n",
       "Name: trip_duration, dtype: object"
      ]
     },
     "execution_count": 74,
     "metadata": {},
     "output_type": "execute_result"
    },
    {
     "data": {
      "image/png": "[encoded data removed]",
      "text/plain": [
       "<Figure size 432x288 with 1 Axes>"
      ]
     },
     "metadata": {},
     "output_type": "display_data"
    }
   ],
   "source": [
    "# I am trying to display data for each borrow in one histagram but it doesn't work\n",
    "# This seems like a good website with useful examples\n",
    "# https://janakiev.com/blog/pandas-groupby/\n",
    "\n",
    "group = yellow_2018_06_with_tz['trip_duration'].groupby(yellow_2018_06_with_tz['Borough'])\n",
    "plt.xlim([0,60])\n",
    "c=0\n",
    "x=[]\n",
    "while c<=60:\n",
    "    x.append(c)\n",
    "    c+=5\n",
    "plt.xticks(x) \n",
    "plt.xlabel(\"Trip duration\")\n",
    "plt.ylabel(\"# Trips\")\n",
    "group.plot(kind='hist',bins=1500, rot=0,lw=2,colormap='jet',figsize=(10,4), subplots=True)"
   ]
  },
  {
   "cell_type": "code",
   "execution_count": 61,
   "metadata": {},
   "outputs": [],
   "source": []
  },
  {
   "cell_type": "code",
   "execution_count": 59,
   "metadata": {},
   "outputs": [],
   "source": []
  },
  {
   "cell_type": "code",
   "execution_count": 60,
   "metadata": {},
   "outputs": [],
   "source": []
  },
  {
   "cell_type": "code",
   "execution_count": null,
   "metadata": {},
   "outputs": [],
   "source": []
  }
 ],
 "metadata": {
  "kernelspec": {
   "display_name": "Python 3",
   "language": "python",
   "name": "python3"
  },
  "language_info": {
   "codemirror_mode": {
    "name": "ipython",
    "version": 3
   },
   "file_extension": ".py",
   "mimetype": "text/x-python",
   "name": "python",
   "nbconvert_exporter": "python",
   "pygments_lexer": "ipython3",
   "version": "3.6.5"
  }
 },
 "nbformat": 4,
 "nbformat_minor": 2
}
