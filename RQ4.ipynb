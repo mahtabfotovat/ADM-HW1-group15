{
 "cells": [
  {
   "cell_type": "code",
   "execution_count": 1,
   "metadata": {},
   "outputs": [],
   "source": [
    "import pandas as pd\n",
    "import matplotlib.pyplot as plt\n",
    "from scipy.stats import chisquare"
   ]
  },
  {
   "cell_type": "code",
   "execution_count": 2,
   "metadata": {},
   "outputs": [],
   "source": [
    "yellow_2018_06=pd.read_csv('yellow_tripdata_2018-06.csv',encoding='latin1')"
   ]
  },
  {
   "cell_type": "code",
   "execution_count": 3,
   "metadata": {},
   "outputs": [],
   "source": [
    "taxi_zones=pd.read_csv('taxi_zone_lookup.csv',encoding='latin1')"
   ]
  },
  {
   "cell_type": "code",
   "execution_count": 4,
   "metadata": {},
   "outputs": [],
   "source": [
    "yellow_tz_2018_06 = yellow_2018_06.merge(taxi_zones,left_on='PULocationID', right_on='LocationID')"
   ]
  },
  {
   "cell_type": "code",
   "execution_count": 5,
   "metadata": {},
   "outputs": [],
   "source": [
    "#Creation of boroughs column (type Series)\n",
    "boroughs=yellow_tz_2018_06['Borough']"
   ]
  },
  {
   "cell_type": "code",
   "execution_count": 6,
   "metadata": {},
   "outputs": [],
   "source": [
    "#Creation of payment_type column (type Series)\n",
    "payments_type=yellow_tz_2018_06['payment_type']"
   ]
  },
  {
   "cell_type": "code",
   "execution_count": 7,
   "metadata": {},
   "outputs": [],
   "source": [
    "dict_pay_id={1:'Credit Card', 2:'Cash', 3:'No charge', 4:'Dispute', 5:'Unknown', 6:'Voided trip'}"
   ]
  },
  {
   "cell_type": "code",
   "execution_count": 13,
   "metadata": {},
   "outputs": [],
   "source": [
    "# Merge the two Series in one dataframe:\n",
    "df_201806=pd.concat([boroughs,payments_type], axis=1)"
   ]
  },
  {
   "cell_type": "code",
   "execution_count": 14,
   "metadata": {},
   "outputs": [],
   "source": [
    "# We changed the id of the payments with the real, human readable, name \n",
    "# In the dataframe we are using => df_201806 "
   ]
  },
  {
   "cell_type": "code",
   "execution_count": 15,
   "metadata": {},
   "outputs": [],
   "source": [
    "df_201806['payment_type']=df_201806['payment_type'].apply(lambda x: dict_pay_id[x])"
   ]
  },
  {
   "cell_type": "code",
   "execution_count": 16,
   "metadata": {},
   "outputs": [],
   "source": [
    "# We need to see in which way are used means for each borough"
   ]
  },
  {
   "cell_type": "code",
   "execution_count": 19,
   "metadata": {},
   "outputs": [],
   "source": [
    "#obj2=df_201806.groupby(['payment_type']).count()  #print(obj.count()['payment_type']) same thing but different output of fieldname"
   ]
  },
  {
   "cell_type": "code",
   "execution_count": 16,
   "metadata": {},
   "outputs": [],
   "source": [
    "#df_201806.set_index('boroughs', inplace=True)\n",
    "#df_201806.groupby(['boroughs'])['payment_type'].count().plot(legend=True)\n"
   ]
  },
  {
   "cell_type": "code",
   "execution_count": 17,
   "metadata": {},
   "outputs": [
    {
     "data": {
      "text/plain": [
       "'Queens'"
      ]
     },
     "execution_count": 17,
     "metadata": {},
     "output_type": "execute_result"
    }
   ],
   "source": [
    "#df_201806['Borough'][0]"
   ]
  },
  {
   "cell_type": "code",
   "execution_count": 13,
   "metadata": {},
   "outputs": [],
   "source": [
    "#try_df1=df_201806.head(100)"
   ]
  },
  {
   "cell_type": "code",
   "execution_count": 14,
   "metadata": {},
   "outputs": [],
   "source": [
    "#try_df2=df_201806.tail(100)"
   ]
  },
  {
   "cell_type": "code",
   "execution_count": 15,
   "metadata": {},
   "outputs": [],
   "source": [
    "#try_df=pd.concat([try_df1,try_df2])"
   ]
  },
  {
   "cell_type": "code",
   "execution_count": 18,
   "metadata": {},
   "outputs": [],
   "source": [
    "def count_payments_per_borough(DF):\n",
    "    d=dict()\n",
    "    l=len(DF)\n",
    "    \n",
    "    for el in DF.iterrows():           #iterating rows through the dataframe\n",
    "        if el[1][0] not in d.keys():   # if there still no Borough in the dict\n",
    "            d[el[1][0]]=[[str(el[1][1]),1]]   # add Borough as key, setting the first list with the payment \n",
    "                                       # [payment_type, 1]     \n",
    "        else:\n",
    "            added=False\n",
    "            lista=d[el[1][0]]\n",
    "            for paymenttype_occurrences in lista:\n",
    "                if paymenttype_occurrences[0] == str(el[1][1]):\n",
    "                    paymenttype_occurrences[1]+=1\n",
    "                    added=True\n",
    "            if added==False:\n",
    "                d[el[1][0]].append([el[1][1],1])                \n",
    "           \n",
    "    return d        "
   ]
  },
  {
   "cell_type": "code",
   "execution_count": null,
   "metadata": {},
   "outputs": [],
   "source": [
    "official_df_201806_dict_for_plot=count_payments_per_borough(df_201806)"
   ]
  },
  {
   "cell_type": "code",
   "execution_count": null,
   "metadata": {},
   "outputs": [],
   "source": [
    "def plot_dict(d):\n",
    "    for key in d.keys():\n",
    "        data_list=d[key]\n",
    "        \n",
    "        pay_types, values=zip(*data_list)\n",
    "        \n",
    "        fig, ax = plt.subplots(1)\n",
    "        \n",
    "        plt.bar(pay_types, values, color=\"orchid\")\n",
    "        ax.plot(pay_types,values, label=key)\n",
    "        ax.set_title('%s', %key)\n",
    "        \n",
    "        plt.show()   "
   ]
  },
  {
   "cell_type": "code",
   "execution_count": null,
   "metadata": {},
   "outputs": [],
   "source": [
    "plot_dict(official_df_201806_dict_for_plot)"
   ]
  },
  {
   "cell_type": "code",
   "execution_count": 21,
   "metadata": {},
   "outputs": [
    {
     "data": {
      "image/png": "[encoded data removed]",
      "text/plain": [
       "<Figure size 432x288 with 1 Axes>"
      ]
     },
     "metadata": {
      "needs_background": "light"
     },
     "output_type": "display_data"
    },
    {
     "data": {
      "image/png": "[encoded data removed]",
      "text/plain": [
       "<Figure size 432x288 with 1 Axes>"
      ]
     },
     "metadata": {
      "needs_background": "light"
     },
     "output_type": "display_data"
    },
    {
     "data": {
      "image/png": "[encoded data removed]",
      "text/plain": [
       "<Figure size 432x288 with 1 Axes>"
      ]
     },
     "metadata": {
      "needs_background": "light"
     },
     "output_type": "display_data"
    }
   ],
   "source": [
    "plot_dict(di)"
   ]
  },
  {
   "cell_type": "code",
   "execution_count": null,
   "metadata": {},
   "outputs": [],
   "source": [
    "#######################ChiSquared Test############################"
   ]
  },
  {
   "cell_type": "code",
   "execution_count": null,
   "metadata": {},
   "outputs": [],
   "source": []
  },
  {
   "cell_type": "code",
   "execution_count": null,
   "metadata": {},
   "outputs": [],
   "source": []
  },
  {
   "cell_type": "code",
   "execution_count": 11,
   "metadata": {},
   "outputs": [
    {
     "data": {
      "text/plain": [
       "'\\n  for key, data_list in data_dict.items():\\n    dates_str, values = zip(*data_list)  # Unpack\\n    dates = convert_str_to_dates(dates_str)  # Not handled in example\\n    plt.plot(dates, values, label=key)\\nplt.legend()  \\n'"
      ]
     },
     "execution_count": 11,
     "metadata": {},
     "output_type": "execute_result"
    }
   ],
   "source": [
    "# for plot:\n",
    "'''\n",
    "  for key, data_list in data_dict.items():\n",
    "    dates_str, values = zip(*data_list)  # Unpack\n",
    "    dates = convert_str_to_dates(dates_str)  # Not handled in example\n",
    "    plt.plot(dates, values, label=key)\n",
    "plt.legend()  \n",
    "'''"
   ]
  },
  {
   "cell_type": "code",
   "execution_count": null,
   "metadata": {},
   "outputs": [],
   "source": [
    "#del yellow_2018_06\n",
    "#del taxi_zones\n",
    "#del yellow_tz_2018_06\n",
    "#del df_201806\n",
    "#del official_df_201806_dict_for_plot"
   ]
  }
 ],
 "metadata": {
  "kernelspec": {
   "display_name": "Python 3",
   "language": "python",
   "name": "python3"
  },
  "language_info": {
   "codemirror_mode": {
    "name": "ipython",
    "version": 3
   },
   "file_extension": ".py",
   "mimetype": "text/x-python",
   "name": "python",
   "nbconvert_exporter": "python",
   "pygments_lexer": "ipython3",
   "version": "3.7.0"
  }
 },
 "nbformat": 4,
 "nbformat_minor": 2
}
