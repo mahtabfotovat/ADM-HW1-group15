{
 "cells": [
  {
   "cell_type": "markdown",
   "metadata": {},
   "source": [
    "## RQ5\n",
    "\n",
    "Does a long distance correlate with the duration of the trip on average? \n",
    "Make a plot that show the dependence between distance and duration of the trip. \n",
    "Then compute the Pearson Coefficient, is it significant? Comment the results you obtain."
   ]
  },
  {
   "cell_type": "markdown",
   "metadata": {},
   "source": [
    "## Import libraries\n"
   ]
  },
  {
   "cell_type": "code",
   "execution_count": null,
   "metadata": {},
   "outputs": [],
   "source": [
    "from datetime import datetime\n",
    "import pandas as pd\n",
    "import matplotlib.pyplot as plt\n",
    "import numpy as np\n",
    "# timedelta is needed to express difference between 2 timestamps in minutes\n",
    "from datetime import timedelta\n",
    "# math library is needed for ceil function\n",
    "import math\n",
    "import matplotlib.pyplot as plt\n",
    "import os, json, requests, pickle\n",
    "from scipy.stats import skew\n",
    "#from shapely.geometry import Point,Polygon,MultiPoint,MultiPolygon\n",
    "from scipy.stats import ttest_ind, f_oneway, lognorm, levy, skew, chisquare\n",
    "#import scipy.stats as st\n",
    "from sklearn.preprocessing import normalize, scale\n",
    "#from tabulate import tabulate #pretty print of tables. source: http://txt.arboreus.com/2013/03/13/pretty-print-tables-in-python.html\n",
    "#from shapely.geometry import Point,Polygon,MultiPoint\n",
    "from scipy.stats.stats import pearsonr\n",
    "import warnings\n",
    "warnings.filterwarnings('ignore')"
   ]
  },
  {
   "cell_type": "markdown",
   "metadata": {},
   "source": [
    "## Import data"
   ]
  },
  {
   "cell_type": "code",
   "execution_count": 20,
   "metadata": {},
   "outputs": [],
   "source": [
    "yellow_2018_06=pd.read_csv('yellow_tripdata_2018-06.csv',encoding='latin1')"
   ]
  },
  {
   "cell_type": "code",
   "execution_count": 21,
   "metadata": {},
   "outputs": [],
   "source": [
    "taxi_zones=pd.read_csv('taxi _zone_lookup.csv',encoding='latin1')"
   ]
  },
  {
   "cell_type": "code",
   "execution_count": 22,
   "metadata": {},
   "outputs": [],
   "source": [
    "# Merge the data set with the reference data for taxi zones\n",
    "yellow_2018_06_with_tz = yellow_2018_06.merge(taxi_zones,left_on='PULocationID', right_on='LocationID')"
   ]
  },
  {
   "cell_type": "code",
   "execution_count": 23,
   "metadata": {},
   "outputs": [],
   "source": [
    "# columns tpep_pickup_datetime and tpep_dropoff_datetime are in string format\n",
    "# to caclulate duration of the ride we need to convert them to date format which can be done using strptime function from datetime\n",
    "yellow_2018_06_with_tz['tpep_dropoff_datetime'] = yellow_2018_06_with_tz['tpep_dropoff_datetime'].map(lambda tpep_dropoff_datetime: datetime.strptime(tpep_dropoff_datetime, \"%Y-%m-%d %H:%M:%S\"))"
   ]
  },
  {
   "cell_type": "code",
   "execution_count": 30,
   "metadata": {},
   "outputs": [],
   "source": [
    "del yellow_2018_06"
   ]
  },
  {
   "cell_type": "code",
   "execution_count": 24,
   "metadata": {},
   "outputs": [],
   "source": [
    "yellow_2018_06_with_tz['tpep_pickup_datetime'] = yellow_2018_06_with_tz['tpep_pickup_datetime'].map(lambda tpep_pickup_datetime: datetime.strptime(tpep_pickup_datetime, \"%Y-%m-%d %H:%M:%S\"))"
   ]
  },
  {
   "cell_type": "code",
   "execution_count": 25,
   "metadata": {},
   "outputs": [],
   "source": [
    "# adding new column trip_duration into the data set\n",
    "yellow_2018_06_with_tz['trip_duration']=(yellow_2018_06_with_tz['tpep_dropoff_datetime']-yellow_2018_06_with_tz['tpep_pickup_datetime'])/timedelta(minutes=1)"
   ]
  },
  {
   "cell_type": "code",
   "execution_count": 27,
   "metadata": {},
   "outputs": [],
   "source": [
    "# to plot trip duration in more readable form values will be rounded upwards (ceiled)\n",
    "yellow_2018_06_with_tz['trip_duration']=yellow_2018_06_with_tz['trip_duration'].map(lambda trip_duration: math.ceil(trip_duration))"
   ]
  },
  {
   "cell_type": "markdown",
   "metadata": {},
   "source": [
    "## Data clean up\n",
    "\n",
    "Take into account trips where:\n",
    "    - Trip distance is positive and greater than 0\n",
    "    - Trip duration is positive and greater than 0\n",
    "    - Number of passangers is positive and greater than 0\n",
    "    - Drop off time is after the pick up time\n",
    "    - Pick up time is in 2018\n"
   ]
  },
  {
   "cell_type": "code",
   "execution_count": 48,
   "metadata": {},
   "outputs": [],
   "source": [
    "yellow_2018_06_with_tz = yellow_2018_06_with_tz[yellow_2018_06_with_tz['trip_distance'] > 0]\n",
    "yellow_2018_06_with_tz = yellow_2018_06_with_tz[yellow_2018_06_with_tz['trip_duration'] > 0]\n",
    "yellow_2018_06_with_tz = yellow_2018_06_with_tz[yellow_2018_06_with_tz['passenger_count']>0]\n",
    "yellow_2018_06_with_tz = yellow_2018_06_with_tz[yellow_2018_06_with_tz['tpep_pickup_datetime']<yellow_2018_06_with_tz['tpep_dropoff_datetime']]\n",
    "yellow_2018_06_with_tz = yellow_2018_06_with_tz[yellow_2018_06_with_tz['tpep_pickup_datetime']>datetime(2017,12,31)]\n",
    "#yellow_2018_06_with_tz = yellow_2018_06_with_tz[yellow_2018_06_with_tz['fare_amount']>0]"
   ]
  },
  {
   "cell_type": "code",
   "execution_count": 67,
   "metadata": {},
   "outputs": [
    {
     "data": {
      "text/plain": [
       "<matplotlib.axes._subplots.AxesSubplot at 0x1bce30f14e0>"
      ]
     },
     "execution_count": 67,
     "metadata": {},
     "output_type": "execute_result"
    },
    {
     "data": {
      "image/png": "[encoded data removed]",
      "text/plain": [
       "<Figure size 432x288 with 1 Axes>"
      ]
     },
     "metadata": {},
     "output_type": "display_data"
    }
   ],
   "source": [
    "# Trips over 100 minutes are rare and some values are unrealisticly high. To eliminate those outliers which affect a lot\n",
    "# correlation calculation, we decided to look only into trips with duration less than 100 hours\n",
    "yellow_2018_06_with_tz_1 = yellow_2018_06_with_tz[yellow_2018_06_with_tz['trip_duration'] <= 100]\n",
    "\n",
    "# For better visibility only sample of 10000 points is used \n",
    "yellow_2018_06_with_tz_2=yellow_2018_06_with_tz_1.sample(10000)\n",
    "yellow_2018_06_with_tz_2.plot(x=\"trip_distance\",y=\"trip_duration\",kind=\"scatter\",s=2, xlim=(0,10))"
   ]
  },
  {
   "cell_type": "markdown",
   "metadata": {},
   "source": [
    "Scatter plot indicates that there could be a linear correlation between these two variables.\n",
    "\n",
    "The Pearson correlation coefficient measures the linear relationship between two datasets. \n",
    "Strictly speaking, Pearson's correlation requires that each dataset be normally distributed. \n",
    "Like other correlation coefficients, this one varies between -1 and +1 with 0 implying no correlation. Correlations of -1 or +1 imply an exact linear relationship. \n",
    "Positive correlations imply that as x increases, so does y. Negative correlations imply that as x increases, y decreases.\n",
    "The p-value roughly indicates the probability of an uncorrelated system producing datasets that have a Pearson correlation at least as extreme as the one computed from these datasets."
   ]
  },
  {
   "cell_type": "code",
   "execution_count": 60,
   "metadata": {},
   "outputs": [
    {
     "data": {
      "text/plain": [
       "(0.8066075441940973, 0.0)"
      ]
     },
     "execution_count": 60,
     "metadata": {},
     "output_type": "execute_result"
    }
   ],
   "source": [
    "pearsonr(yellow_2018_06_with_tz_1.trip_distance, yellow_2018_06_with_tz_1.trip_duration)"
   ]
  },
  {
   "cell_type": "markdown",
   "metadata": {},
   "source": [
    "Pearson correlation coefficient is 0.8 and p=0.0. It means that test is statistically significant \n",
    "and there is a strong positive correlation between trip distance and trip duration."
   ]
  },
  {
   "cell_type": "markdown",
   "metadata": {},
   "source": [
    "v"
   ]
  }
 ],
 "metadata": {
  "kernelspec": {
   "display_name": "Python 3",
   "language": "python",
   "name": "python3"
  },
  "language_info": {
   "codemirror_mode": {
    "name": "ipython",
    "version": 3
   },
   "file_extension": ".py",
   "mimetype": "text/x-python",
   "name": "python",
   "nbconvert_exporter": "python",
   "pygments_lexer": "ipython3",
   "version": "3.6.5"
  }
 },
 "nbformat": 4,
 "nbformat_minor": 2
}
